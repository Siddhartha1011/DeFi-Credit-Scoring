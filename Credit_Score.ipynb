{
 "cells": [
  {
   "cell_type": "markdown",
   "metadata": {},
   "source": [
    "## Features Extracted (per wallet):\n",
    "• Total deposit, borrow, repay, and redeemed USD amounts\n",
    "\n",
    "• Number of actions of each type\n",
    "\n",
    "• Average transaction value\n",
    "\n",
    "• First and last activity timestamp\n",
    "\n",
    "• Number of unique tokens interacted with\n",
    "\n",
    "• Borrow-to-deposit ratio (as credit risk proxy)"
   ]
  },
  {
   "cell_type": "code",
   "execution_count": 29,
   "metadata": {},
   "outputs": [],
   "source": [
    "import json\n",
    "import pandas as pd\n",
    "from datetime import datetime"
   ]
  },
  {
   "cell_type": "code",
   "execution_count": 30,
   "metadata": {},
   "outputs": [],
   "source": [
    "# Load JSON\n",
    "with open(\"user-wallet-transactions.json\", \"r\") as f:\n",
    "    data = json.load(f)"
   ]
  },
  {
   "cell_type": "code",
   "execution_count": 31,
   "metadata": {},
   "outputs": [],
   "source": [
    "# Flatten and normalize\n",
    "records = []\n",
    "for tx in data:\n",
    "    wallet = tx.get(\"userWallet\")\n",
    "    action = tx.get(\"action\")\n",
    "    timestamp = tx.get(\"timestamp\")\n",
    "    asset = tx[\"actionData\"].get(\"assetSymbol\", \"UNKNOWN\")\n",
    "    price = float(tx[\"actionData\"].get(\"assetPriceUSD\", 0))\n",
    "    raw_amount = float(tx[\"actionData\"].get(\"amount\", 0))\n",
    "    \n",
    "    # Determine decimals (simplified assumption)\n",
    "    decimals = 6 if asset.upper() in [\"USDC\", \"USDT\", \"DAI\"] else 18\n",
    "    amount = raw_amount / (10 ** decimals)\n",
    "    usd_value = amount * price\n",
    "    \n",
    "    records.append({\n",
    "        \"wallet\": wallet,\n",
    "        \"action\": action,\n",
    "        \"timestamp\": timestamp,\n",
    "        \"asset\": asset,\n",
    "        \"usd_value\": usd_value,\n",
    "    })"
   ]
  },
  {
   "cell_type": "code",
   "execution_count": 32,
   "metadata": {},
   "outputs": [],
   "source": [
    "# Convert to DataFrame\n",
    "df = pd.DataFrame(records)\n",
    "df[\"timestamp\"] = pd.to_datetime(df[\"timestamp\"], unit=\"s\")"
   ]
  },
  {
   "cell_type": "code",
   "execution_count": 33,
   "metadata": {},
   "outputs": [],
   "source": [
    "# Pivot into wallet-level features: total & count per action\n",
    "features = df.pivot_table(\n",
    "    index=\"wallet\", \n",
    "    columns=\"action\", \n",
    "    values=\"usd_value\", \n",
    "    aggfunc=[\"sum\", \"count\"], \n",
    "    fill_value=0\n",
    ")\n",
    "features.columns = [\"_\".join(col).lower() for col in features.columns]"
   ]
  },
  {
   "cell_type": "code",
   "execution_count": 34,
   "metadata": {},
   "outputs": [],
   "source": [
    "# Additional wallet stats\n",
    "wallet_stats = df.groupby(\"wallet\").agg({\n",
    "    \"usd_value\": \"mean\",\n",
    "    \"timestamp\": [\"min\", \"max\"],\n",
    "    \"asset\": pd.Series.nunique\n",
    "})\n",
    "wallet_stats.columns = [\"avg_tx_usd\", \"first_seen\", \"last_seen\", \"unique_assets\"]"
   ]
  },
  {
   "cell_type": "code",
   "execution_count": 42,
   "metadata": {},
   "outputs": [],
   "source": [
    "# Merge\n",
    "final_df = features.merge(wallet_stats, left_index=True, right_index=True)\n",
    "final_df.reset_index(inplace=True)"
   ]
  },
  {
   "cell_type": "code",
   "execution_count": 43,
   "metadata": {},
   "outputs": [],
   "source": [
    "# Time-based features\n",
    "final_df[\"activity_days\"] = (final_df[\"last_seen\"] - final_df[\"first_seen\"]).dt.days + 1\n",
    "final_df[\"tx_per_day\"] = features.get(\"count_deposit\", 0) / final_df[\"activity_days\"]"
   ]
  },
  {
   "cell_type": "code",
   "execution_count": 44,
   "metadata": {},
   "outputs": [],
   "source": [
    "# Borrow-to-Deposit ratio\n",
    "final_df[\"borrow_deposit_ratio\"] = final_df.get(\"sum_borrow\", 0) / (final_df.get(\"sum_deposit\", 1))"
   ]
  },
  {
   "cell_type": "code",
   "execution_count": 45,
   "metadata": {},
   "outputs": [],
   "source": [
    "# Detect Repay Timestamps\n",
    "repay_timestamps = df[df[\"action\"] == \"repay\"].groupby(\"wallet\")[\"timestamp\"].max()"
   ]
  },
  {
   "cell_type": "code",
   "execution_count": 46,
   "metadata": {},
   "outputs": [
    {
     "name": "stderr",
     "output_type": "stream",
     "text": [
      "/var/folders/h3/dfkg91b132v83jnbsrrz538c0000gn/T/ipykernel_79026/882445453.py:4: FutureWarning: Series.__getitem__ treating keys as positions is deprecated. In a future version, integer keys will always be treated as labels (consistent with DataFrame behavior). To access a value by position, use `ser.iloc[pos]`\n",
      "  last_repay = repay_timestamps.get(wallet_row.name, pd.NaT)\n"
     ]
    }
   ],
   "source": [
    "# Default Risk Heuristic\n",
    "def has_default(wallet_row):\n",
    "    borrowed = wallet_row.get(\"sum_borrow\", 0)\n",
    "    last_repay = repay_timestamps.get(wallet_row.name, pd.NaT)\n",
    "    if borrowed > 0 and pd.isna(last_repay):\n",
    "        return True\n",
    "    if borrowed > 0 and (wallet_row[\"last_seen\"] - last_repay).days > 90:\n",
    "        return True\n",
    "    return False\n",
    "\n",
    "final_df[\"default_flag\"] = final_df.apply(has_default, axis=1)"
   ]
  },
  {
   "cell_type": "code",
   "execution_count": 47,
   "metadata": {},
   "outputs": [],
   "source": [
    "# Liquidation Event Detection\n",
    "liquidations = df[df[\"action\"] == \"liquidationCall\"].groupby(\"wallet\")[\"action\"].count()\n",
    "final_df[\"liquidation_count\"] = final_df[\"wallet\"].map(liquidations).fillna(0).astype(int)\n",
    "final_df[\"liquidated\"] = final_df[\"liquidation_count\"] > 0"
   ]
  },
  {
   "cell_type": "code",
   "execution_count": 48,
   "metadata": {},
   "outputs": [],
   "source": [
    "# Time Between Transactions (Bot Detection)\n",
    "df_sorted = df.sort_values([\"wallet\", \"timestamp\"])\n",
    "df_sorted[\"prev_time\"] = df_sorted.groupby(\"wallet\")[\"timestamp\"].shift(1)\n",
    "df_sorted[\"time_diff\"] = (df_sorted[\"timestamp\"] - df_sorted[\"prev_time\"]).dt.total_seconds()\n",
    "avg_time_between_tx = df_sorted.groupby(\"wallet\")[\"time_diff\"].mean().fillna(999999)\n",
    "final_df[\"avg_time_between_tx\"] = final_df[\"wallet\"].map(avg_time_between_tx)"
   ]
  },
  {
   "cell_type": "code",
   "execution_count": 49,
   "metadata": {},
   "outputs": [],
   "source": [
    "# Bot-Like Behavior Heuristic\n",
    "final_df[\"bot_like\"] = (final_df[\"avg_time_between_tx\"] < 60) & (final_df[\"unique_assets\"] < 2)"
   ]
  },
  {
   "cell_type": "code",
   "execution_count": 50,
   "metadata": {},
   "outputs": [
    {
     "name": "stdout",
     "output_type": "stream",
     "text": [
      "✅ Extracted features shape: (3497, 24)\n",
      "                                       wallet   sum_deposit     sum_borrow  \\\n",
      "0  0x00000000001accfa9cef68cf5371a23025b6d4b6  1.987664e+03       0.000000   \n",
      "1  0x000000000051d07a4fb3bd10121a343d85818da6  2.856945e+02       0.000000   \n",
      "2  0x000000000096026fb41fc39f9875d164bd82e2dc  5.152311e-03       0.000000   \n",
      "3  0x0000000000e189dd664b9ab08a33c4839953852c  0.000000e+00       0.000000   \n",
      "4  0x0000000002032370b971dabd36d72f3e5a7bf1ee  4.149390e+16  130355.754756   \n",
      "\n",
      "   borrow_deposit_ratio  default_flag  liquidated  liquidation_count  \\\n",
      "0          0.000000e+00         False       False                  0   \n",
      "1          0.000000e+00         False       False                  0   \n",
      "2          0.000000e+00         False       False                  0   \n",
      "3                   NaN         False       False                  0   \n",
      "4          3.141564e-12          True       False                  0   \n",
      "\n",
      "   avg_time_between_tx  bot_like  \n",
      "0        999999.000000     False  \n",
      "1        999999.000000     False  \n",
      "2        654405.000000     False  \n",
      "3        698369.937500     False  \n",
      "4         28843.251256     False  \n"
     ]
    }
   ],
   "source": [
    "# Reset index and save\n",
    "final_df.reset_index(inplace=True)\n",
    "final_df.to_csv(\"wallet_features.csv\", index=False)\n",
    "\n",
    "print(\"✅ Extracted features shape:\", final_df.shape)\n",
    "print(final_df[[\n",
    "    \"wallet\", \"sum_deposit\", \"sum_borrow\", \"borrow_deposit_ratio\", \n",
    "    \"default_flag\", \"liquidated\", \"liquidation_count\", \n",
    "    \"avg_time_between_tx\", \"bot_like\"\n",
    "]].head())"
   ]
  },
  {
   "cell_type": "markdown",
   "metadata": {},
   "source": [
    "# Load Engineered Features"
   ]
  },
  {
   "cell_type": "code",
   "execution_count": 51,
   "metadata": {},
   "outputs": [],
   "source": [
    "import pandas as pd\n",
    "from sklearn.preprocessing import MinMaxScaler\n",
    "from sklearn.ensemble import IsolationForest\n",
    "from sklearn.decomposition import PCA\n",
    "from sklearn.pipeline import Pipeline\n",
    "import numpy as np"
   ]
  },
  {
   "cell_type": "code",
   "execution_count": 52,
   "metadata": {},
   "outputs": [],
   "source": [
    "# Load feature set\n",
    "df = pd.read_csv(\"wallet_features.csv\")"
   ]
  },
  {
   "cell_type": "code",
   "execution_count": 53,
   "metadata": {},
   "outputs": [],
   "source": [
    "# Features to use for scoring (you can tune this list)\n",
    "features = [\n",
    "    \"sum_deposit\",\n",
    "    \"sum_borrow\",\n",
    "    \"borrow_deposit_ratio\",\n",
    "    \"tx_per_day\",\n",
    "    \"unique_assets\",\n",
    "    \"activity_days\",\n",
    "    \"avg_tx_usd\",\n",
    "    \"liquidation_count\",\n",
    "    \"default_flag\",\n",
    "    \"bot_like\",\n",
    "    \"avg_time_between_tx\"\n",
    "]"
   ]
  },
  {
   "cell_type": "code",
   "execution_count": 54,
   "metadata": {},
   "outputs": [],
   "source": [
    "# Clean and convert boolean to int\n",
    "df[\"default_flag\"] = df[\"default_flag\"].astype(int)\n",
    "df[\"bot_like\"] = df[\"bot_like\"].astype(int)\n",
    "\n",
    "X = df[features].fillna(0)"
   ]
  },
  {
   "cell_type": "code",
   "execution_count": 65,
   "metadata": {},
   "outputs": [],
   "source": [
    "# Replace inf and clip for stability\n",
    "X[\"borrow_deposit_ratio\"] = X[\"borrow_deposit_ratio\"].replace([np.inf, -np.inf], 0)\n",
    "X[\"borrow_deposit_ratio\"] = X[\"borrow_deposit_ratio\"].clip(upper=10)"
   ]
  },
  {
   "cell_type": "code",
   "execution_count": 66,
   "metadata": {},
   "outputs": [],
   "source": [
    "# Normalize features\n",
    "scaler = MinMaxScaler()\n",
    "X_scaled = scaler.fit_transform(X)"
   ]
  },
  {
   "cell_type": "code",
   "execution_count": 67,
   "metadata": {},
   "outputs": [],
   "source": [
    "# Unsupervised scoring model: Isolation Forest (anomaly detection)\n",
    "model = IsolationForest(n_estimators=200, contamination=0.1, random_state=42)\n",
    "df[\"anomaly_score\"] = model.fit_predict(X_scaled)  # -1 = outlier, 1 = normal\n",
    "df[\"raw_score\"] = model.decision_function(X_scaled)  # Higher is better"
   ]
  },
  {
   "cell_type": "code",
   "execution_count": 69,
   "metadata": {},
   "outputs": [],
   "source": [
    "# Normalize raw scores to 0–1000 credit score\n",
    "raw_min = df[\"raw_score\"].min()\n",
    "raw_max = df[\"raw_score\"].max()\n",
    "df[\"credit_score\"] = ((df[\"raw_score\"] - raw_min) / (raw_max - raw_min) * 1000).round().astype(int)"
   ]
  },
  {
   "cell_type": "code",
   "execution_count": 70,
   "metadata": {},
   "outputs": [],
   "source": [
    "# Sort by most reliable\n",
    "df.sort_values(by=\"credit_score\", ascending=False, inplace=True)"
   ]
  },
  {
   "cell_type": "code",
   "execution_count": 71,
   "metadata": {},
   "outputs": [],
   "source": [
    "# Export to CSV\n",
    "df.to_csv(\"wallet_credit_scores.csv\", index=False)"
   ]
  },
  {
   "cell_type": "code",
   "execution_count": 72,
   "metadata": {},
   "outputs": [
    {
     "name": "stdout",
     "output_type": "stream",
     "text": [
      "✅ Credit Scoring Complete. Sample:\n",
      "                                          wallet  credit_score  default_flag  \\\n",
      "3201  0x0599da9dc8adf0baa33b49aba6e560a9486e61c3          1000         False   \n",
      "1452  0x026cfe8238076c5500416ce21c6c3b3e00484494          1000         False   \n",
      "653   0x010a078ff877852f0f18b6a910f7964ff18498f4          1000         False   \n",
      "2659  0x049ed9ff140a2ad73db0cbd993771d16e86b4b5e          1000         False   \n",
      "2662  0x049fd5a7f8d59517260baefa017b79c0ce19f0d0          1000         False   \n",
      "\n",
      "      liquidation_count  bot_like  \n",
      "3201                  0     False  \n",
      "1452                  0     False  \n",
      "653                   0     False  \n",
      "2659                  0     False  \n",
      "2662                  0     False  \n"
     ]
    }
   ],
   "source": [
    "# Preview results\n",
    "print(\"✅ Credit Scoring Complete. Sample:\")\n",
    "print(df[[\"wallet\", \"credit_score\", \"default_flag\", \"liquidation_count\", \"bot_like\"]].head())"
   ]
  },
  {
   "cell_type": "markdown",
   "metadata": {},
   "source": [
    "# Number of users in each category"
   ]
  },
  {
   "cell_type": "code",
   "execution_count": 76,
   "metadata": {},
   "outputs": [],
   "source": [
    "import matplotlib.pyplot as plt"
   ]
  },
  {
   "cell_type": "code",
   "execution_count": 77,
   "metadata": {},
   "outputs": [],
   "source": [
    "# Load credit-scored data\n",
    "df = pd.read_csv(\"wallet_credit_scores.csv\")"
   ]
  },
  {
   "cell_type": "code",
   "execution_count": 78,
   "metadata": {},
   "outputs": [],
   "source": [
    "# Categorize users by credit score\n",
    "def categorize(score):\n",
    "    if score >= 800:\n",
    "        return \"Excellent\"\n",
    "    elif score >= 600:\n",
    "        return \"Good\"\n",
    "    elif score >= 400:\n",
    "        return \"Fair\"\n",
    "    else:\n",
    "        return \"Risky\"\n",
    "\n",
    "df[\"category\"] = df[\"credit_score\"].apply(categorize)"
   ]
  },
  {
   "cell_type": "code",
   "execution_count": 79,
   "metadata": {},
   "outputs": [
    {
     "data": {
      "image/png": "[encoded data removed]",
      "text/plain": [
       "<Figure size 800x500 with 1 Axes>"
      ]
     },
     "metadata": {},
     "output_type": "display_data"
    }
   ],
   "source": [
    "# Plot category distribution\n",
    "category_counts = df[\"category\"].value_counts().reindex([\"Excellent\", \"Good\", \"Fair\", \"Risky\"], fill_value=0)\n",
    "\n",
    "plt.figure(figsize=(8, 5))\n",
    "category_counts.plot(kind=\"bar\", color=[\"green\", \"skyblue\", \"orange\", \"red\"])\n",
    "plt.title(\"Wallet Credit Score Categories\")\n",
    "plt.xlabel(\"Category\")\n",
    "plt.ylabel(\"Number of Wallets\")\n",
    "plt.xticks(rotation=0)\n",
    "plt.grid(axis=\"y\", linestyle=\"--\", alpha=0.7)\n",
    "plt.tight_layout()\n",
    "plt.show()"
   ]
  },
  {
   "cell_type": "code",
   "execution_count": 80,
   "metadata": {},
   "outputs": [
    {
     "data": {
      "image/png": "[encoded data removed]",
      "text/plain": [
       "<Figure size 600x600 with 1 Axes>"
      ]
     },
     "metadata": {},
     "output_type": "display_data"
    }
   ],
   "source": [
    "# Pie chart of categories\n",
    "plt.figure(figsize=(6, 6))\n",
    "colors = [\"green\", \"skyblue\", \"orange\", \"red\"]\n",
    "df[\"category\"].value_counts().reindex([\"Excellent\", \"Good\", \"Fair\", \"Risky\"]).plot(\n",
    "    kind='pie', autopct='%1.1f%%', colors=colors, startangle=140, shadow=True)\n",
    "plt.title(\"Wallet Credit Score Category Distribution\")\n",
    "plt.ylabel(\"\")  # Hide y-label\n",
    "plt.tight_layout()\n",
    "plt.show()"
   ]
  }
 ],
 "metadata": {
  "kernelspec": {
   "display_name": "juypter",
   "language": "python",
   "name": "python3"
  },
  "language_info": {
   "codemirror_mode": {
    "name": "ipython",
    "version": 3
   },
   "file_extension": ".py",
   "mimetype": "text/x-python",
   "name": "python",
   "nbconvert_exporter": "python",
   "pygments_lexer": "ipython3",
   "version": "3.13.3"
  }
 },
 "nbformat": 4,
 "nbformat_minor": 2
}
